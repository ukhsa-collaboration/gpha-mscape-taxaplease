{
 "cells": [
  {
   "cell_type": "code",
   "execution_count": null,
   "metadata": {},
   "outputs": [],
   "source": [
    "from taxaplease import TaxaPlease"
   ]
  },
  {
   "cell_type": "code",
   "execution_count": null,
   "metadata": {},
   "outputs": [],
   "source": [
    "## instatiate the class\n",
    "taxaPlease = TaxaPlease()"
   ]
  },
  {
   "cell_type": "code",
   "execution_count": null,
   "metadata": {},
   "outputs": [],
   "source": [
    "## root returns itself as parent\n",
    "taxaPlease.get_parent_taxid(1)"
   ]
  },
  {
   "cell_type": "code",
   "execution_count": null,
   "metadata": {},
   "outputs": [],
   "source": [
    "## root record\n",
    "taxaPlease.get_record(1)"
   ]
  },
  {
   "cell_type": "code",
   "execution_count": null,
   "metadata": {},
   "outputs": [],
   "source": [
    "## get a record\n",
    "taxaPlease.get_record(2000)"
   ]
  },
  {
   "cell_type": "code",
   "execution_count": null,
   "metadata": {},
   "outputs": [],
   "source": [
    "## get a parent taxa\n",
    "taxaPlease.get_parent_taxid(2004)"
   ]
  },
  {
   "cell_type": "code",
   "execution_count": null,
   "metadata": {},
   "outputs": [],
   "source": [
    "## get a parent record\n",
    "taxaPlease.get_parent_record(2004)"
   ]
  },
  {
   "cell_type": "code",
   "execution_count": null,
   "metadata": {},
   "outputs": [],
   "source": [
    "## get the taxid corresponding to the genus\n",
    "taxaPlease.get_genus_taxid(562)"
   ]
  },
  {
   "cell_type": "code",
   "execution_count": null,
   "metadata": {},
   "outputs": [],
   "source": [
    "## get a random E. coli strain\n",
    "taxaPlease.get_record(502347)"
   ]
  },
  {
   "cell_type": "code",
   "execution_count": null,
   "metadata": {},
   "outputs": [],
   "source": [
    "## get the corresponding species for that E. coli strain\n",
    "taxaPlease.get_species_taxid(502347)"
   ]
  },
  {
   "cell_type": "code",
   "execution_count": null,
   "metadata": {},
   "outputs": [],
   "source": [
    "## get the record for that taxid\n",
    "taxaPlease.get_record(\n",
    "    taxaPlease.get_species_taxid(502347)\n",
    ")"
   ]
  },
  {
   "cell_type": "code",
   "execution_count": null,
   "metadata": {},
   "outputs": [],
   "source": [
    "## Grey wolf and Aloe vera are both...\n",
    "## Eukaryota, obviously...\n",
    "taxid_canis_lupus = 9612\n",
    "taxid_aloe_vera = 34199\n",
    "\n",
    "taxaPlease.get_common_parent_record(taxid_canis_lupus, taxid_aloe_vera)"
   ]
  },
  {
   "cell_type": "code",
   "execution_count": null,
   "metadata": {},
   "outputs": [],
   "source": [
    "## E. coli and a random Shigella are both...\n",
    "## Enterobacteriaceae, as it so happens\n",
    "taxid_e_coli = 562\n",
    "taxid_s_flexneri = 623\n",
    "\n",
    "taxaPlease.get_common_parent_record(taxid_e_coli, taxid_s_flexneri)"
   ]
  },
  {
   "cell_type": "code",
   "execution_count": null,
   "metadata": {},
   "outputs": [],
   "source": [
    "## levels between close taxa\n",
    "taxaPlease.get_number_of_levels_between_taxa(\n",
    "    taxid_e_coli,\n",
    "    taxid_s_flexneri\n",
    ")"
   ]
  },
  {
   "cell_type": "code",
   "execution_count": null,
   "metadata": {},
   "outputs": [],
   "source": [
    "## levels between distant taxa\n",
    "taxaPlease.get_number_of_levels_between_taxa(\n",
    "    taxid_e_coli,\n",
    "    taxid_canis_lupus\n",
    ")"
   ]
  },
  {
   "cell_type": "code",
   "execution_count": null,
   "metadata": {},
   "outputs": [],
   "source": [
    "## is aloe vera a virus? (not by any reasonable definition)\n",
    "taxaPlease.isVirus(taxid_aloe_vera)"
   ]
  },
  {
   "cell_type": "code",
   "execution_count": null,
   "metadata": {},
   "outputs": [],
   "source": [
    "## oh I remember now, it's a Eukaryote (obviously)\n",
    "taxaPlease.isEukaryote(taxid_aloe_vera)"
   ]
  },
  {
   "cell_type": "code",
   "execution_count": null,
   "metadata": {},
   "outputs": [],
   "source": [
    "## and E. coli is a bacteria, right? (obviously)\n",
    "taxaPlease.isBacteria(taxid_e_coli)"
   ]
  },
  {
   "cell_type": "code",
   "execution_count": null,
   "metadata": {},
   "outputs": [],
   "source": [
    "## I'm on a roll! Shigella is Archaea, isn't it? (it's not)\n",
    "taxaPlease.isArchaea(taxid_s_flexneri)"
   ]
  },
  {
   "cell_type": "code",
   "execution_count": null,
   "metadata": {},
   "outputs": [],
   "source": [
    "## Whoops, but off the top of my head,\n",
    "## I'd say that Methanobrevibacter smithii probably is Archaea\n",
    "## (it is)\n",
    "print(taxaPlease.get_record(2173))\n",
    "print(taxaPlease.isArchaea(2173))"
   ]
  },
  {
   "cell_type": "code",
   "execution_count": null,
   "metadata": {},
   "outputs": [],
   "source": [
    "## allegedly there is a phage called Bowservirus bowser\n",
    "## that can't be true, right?\n",
    "## (it really genuinely is)\n",
    "print(taxaPlease.get_record(2560487))\n",
    "print(taxaPlease.isPhage(2560487))"
   ]
  }
 ],
 "metadata": {
  "kernelspec": {
   "display_name": "base",
   "language": "python",
   "name": "python3"
  },
  "language_info": {
   "codemirror_mode": {
    "name": "ipython",
    "version": 3
   },
   "file_extension": ".py",
   "mimetype": "text/x-python",
   "name": "python",
   "nbconvert_exporter": "python",
   "pygments_lexer": "ipython3",
   "version": "3.12.11"
  }
 },
 "nbformat": 4,
 "nbformat_minor": 2
}
